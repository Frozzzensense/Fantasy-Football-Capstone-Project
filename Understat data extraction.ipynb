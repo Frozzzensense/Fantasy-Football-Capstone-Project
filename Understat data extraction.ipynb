{
 "cells": [
  {
   "cell_type": "code",
   "execution_count": 10,
   "id": "accepted-vertical",
   "metadata": {},
   "outputs": [
    {
     "name": "stdout",
     "output_type": "stream",
     "text": [
      "done\n"
     ]
    }
   ],
   "source": [
    "import asyncio\n",
    "import json\n",
    "#import pandas as pd\n",
    "import aiohttp\n",
    "\n",
    "from understat import Understat\n",
    "\n",
    "\n",
    "import nest_asyncio\n",
    "nest_asyncio.apply()\n",
    "\n",
    "async def main():\n",
    "    async with aiohttp.ClientSession() as session:\n",
    "        understat = Understat(session)\n",
    "#         grouped_stats = await understat.get_player_grouped_stats(619)\n",
    "#         print(json.dumps(grouped_stats))\n",
    "#         player_stats = await understat.get_player_stats(618)\n",
    "#         print(json.dumps(player_stats))\n",
    "        players = await understat.get_league_players(\n",
    "        \"epl\",\n",
    "        2021)\n",
    "        #print(json.dumps(players))\n",
    "        out_file=open(r'C:\\Users\\Denis\\Desktop\\py4e\\Chapter16\\Capstone\\Understat\\All_2021_Players.json', 'w')\n",
    "        json.dump(players, out_file, indent=4)\n",
    "        out_file.close()\n",
    "        \n",
    "\n",
    "loop = asyncio.get_event_loop()\n",
    "loop.run_until_complete(main())\n",
    "print('done')\n",
    "\n",
    "\n",
    "\n",
    "#df = pd.read_csv (r'C:\\Users\\Denis\\Desktop\\py4e\\Chapter16\\Capstone\\Understat\\All_2021_Players.csv', index_col=0)\n",
    "# print (df)\n",
    "# print(type(df))\n",
    "# df.to_csv('All_2021_Players.csv', index=False)\n",
    "\n"
   ]
  },
  {
   "cell_type": "code",
   "execution_count": null,
   "id": "relevant-duncan",
   "metadata": {},
   "outputs": [],
   "source": []
  },
  {
   "cell_type": "code",
   "execution_count": null,
   "id": "heated-million",
   "metadata": {},
   "outputs": [],
   "source": []
  }
 ],
 "metadata": {
  "kernelspec": {
   "display_name": "Python 3",
   "language": "python",
   "name": "python3"
  },
  "language_info": {
   "codemirror_mode": {
    "name": "ipython",
    "version": 3
   },
   "file_extension": ".py",
   "mimetype": "text/x-python",
   "name": "python",
   "nbconvert_exporter": "python",
   "pygments_lexer": "ipython3",
   "version": "3.9.0"
  }
 },
 "nbformat": 4,
 "nbformat_minor": 5
}
